{
 "cells": [
  {
   "cell_type": "code",
   "execution_count": 4,
   "metadata": {},
   "outputs": [],
   "source": [
    "import math\n",
    "from scipy.stats import norm\n",
    "\n",
    "def black_scholes(S, K, T, r, sigma, option_type):\n",
    "    \"\"\"\n",
    "    Calculate the Black-Scholes option price.\n",
    "\n",
    "    Parameters:\n",
    "    S : float : Current stock price\n",
    "    K : float : Option strike price\n",
    "    T : float : Time to maturity (in years)\n",
    "    r : float : Risk-free interest rate (annual)\n",
    "    sigma : float : Volatility of the underlying stock (annual)\n",
    "    option_type : str : 'call' for call option, 'put' for put option (default is 'call')\n",
    "\n",
    "    Returns:\n",
    "    float : Price of the option\n",
    "    \"\"\"\n",
    "    d1 = (math.log(S / K) + (r + 0.5 * sigma ** 2) * T) / (sigma * math.sqrt(T))\n",
    "    d2 = d1 - sigma * math.sqrt(T)\n",
    "\n",
    "    if option_type == 'call':\n",
    "        option_price = S * norm.cdf(d1) - K * math.exp(-r * T) * norm.cdf(d2)\n",
    "    elif option_type == 'put':\n",
    "        option_price = K * math.exp(-r * T) * norm.cdf(-d2) - S * norm.cdf(-d1)\n",
    "    else:\n",
    "        raise ValueError(\"option_type must be 'call' or 'put'\")\n",
    "    \n",
    "    return option_price\n"
   ]
  },
  {
   "cell_type": "code",
   "execution_count": 5,
   "metadata": {},
   "outputs": [
    {
     "name": "stdout",
     "output_type": "stream",
     "text": [
      "Call Option Price: 10.45\n",
      "Put Option Price: 5.57\n"
     ]
    }
   ],
   "source": [
    "S = 100    # Current stock price\n",
    "K = 100    # Strike price\n",
    "T = 1      # Time to maturity in years\n",
    "r = 0.05   # Risk-free interest rate\n",
    "sigma = 0.2  # Volatility\n",
    "\n",
    "call_price = black_scholes(S, K, T, r, sigma, option_type='call')\n",
    "put_price = black_scholes(S, K, T, r, sigma, option_type='put')\n",
    "\n",
    "print(f\"Call Option Price: {call_price:.2f}\")\n",
    "print(f\"Put Option Price: {put_price:.2f}\")\n"
   ]
  }
 ],
 "metadata": {
  "kernelspec": {
   "display_name": "Python 3",
   "language": "python",
   "name": "python3"
  },
  "language_info": {
   "codemirror_mode": {
    "name": "ipython",
    "version": 3
   },
   "file_extension": ".py",
   "mimetype": "text/x-python",
   "name": "python",
   "nbconvert_exporter": "python",
   "pygments_lexer": "ipython3",
   "version": "3.12.2"
  }
 },
 "nbformat": 4,
 "nbformat_minor": 2
}
